{
 "cells": [
  {
   "cell_type": "markdown",
   "metadata": {},
   "source": [
    "# Hey, Arnold!\n",
    "\n",
    "* This assignment will give you experience creating DataFrames from scratch.\n",
    "\n",
    "* You will create a pandas DataFrame of characters from this TV show: [https://en.wikipedia.org/wiki/Hey_Arnold!](https://en.wikipedia.org/wiki/Hey_Arnold!)\n",
    "\n",
    "## Instructions\n",
    "\n",
    "1. First, use Pandas to create a DataFrame with the following columns and values:\n",
    "* `Character_in_show`: Arnold, Gerald, Helga, Phoebe, Harold, Eugene\n",
    "* `color_of_hair`: blonde, black, blonde, black, unknown, red\n",
    "* `Height`: average, tallish, tallish, short, tall, short\n",
    "* `Football_Shaped_Head`: True, False, False, False, False, False\n",
    "2. You'll note that the above column names are inconsistent and difficult to work with. Rename them to the following, respectively:\n",
    "* `Character`, `Hair Color`, `Height`, `Football Head`\n",
    "3. Next, create a new table that contains all of the columns in the following order...\n",
    "* `Character`, `Football Head`, `Hair Color`, `Height`\n",
    "4. Finally, save the file in Excel format."
   ]
  },
  {
   "cell_type": "code",
   "execution_count": 1,
   "metadata": {},
   "outputs": [],
   "source": [
    "# import dependencies\n",
    "import pandas as pd"
   ]
  },
  {
   "cell_type": "code",
   "execution_count": 2,
   "metadata": {},
   "outputs": [
    {
     "data": {
      "text/html": [
       "<div>\n",
       "<style scoped>\n",
       "    .dataframe tbody tr th:only-of-type {\n",
       "        vertical-align: middle;\n",
       "    }\n",
       "\n",
       "    .dataframe tbody tr th {\n",
       "        vertical-align: top;\n",
       "    }\n",
       "\n",
       "    .dataframe thead th {\n",
       "        text-align: right;\n",
       "    }\n",
       "</style>\n",
       "<table border=\"1\" class=\"dataframe\">\n",
       "  <thead>\n",
       "    <tr style=\"text-align: right;\">\n",
       "      <th></th>\n",
       "      <th>Character_in_show</th>\n",
       "      <th>color_of_hair</th>\n",
       "      <th>Height</th>\n",
       "      <th>Football_Shaped_Head</th>\n",
       "    </tr>\n",
       "  </thead>\n",
       "  <tbody>\n",
       "    <tr>\n",
       "      <th>0</th>\n",
       "      <td>Arnold</td>\n",
       "      <td>blonde</td>\n",
       "      <td>average</td>\n",
       "      <td>True</td>\n",
       "    </tr>\n",
       "    <tr>\n",
       "      <th>1</th>\n",
       "      <td>Gerald</td>\n",
       "      <td>black</td>\n",
       "      <td>tallish</td>\n",
       "      <td>False</td>\n",
       "    </tr>\n",
       "    <tr>\n",
       "      <th>2</th>\n",
       "      <td>Helga</td>\n",
       "      <td>blonde</td>\n",
       "      <td>tallish</td>\n",
       "      <td>False</td>\n",
       "    </tr>\n",
       "    <tr>\n",
       "      <th>3</th>\n",
       "      <td>Phoebe</td>\n",
       "      <td>black</td>\n",
       "      <td>short</td>\n",
       "      <td>False</td>\n",
       "    </tr>\n",
       "    <tr>\n",
       "      <th>4</th>\n",
       "      <td>Harold</td>\n",
       "      <td>unknown</td>\n",
       "      <td>tall</td>\n",
       "      <td>False</td>\n",
       "    </tr>\n",
       "    <tr>\n",
       "      <th>5</th>\n",
       "      <td>Eugene</td>\n",
       "      <td>red</td>\n",
       "      <td>short</td>\n",
       "      <td>False</td>\n",
       "    </tr>\n",
       "  </tbody>\n",
       "</table>\n",
       "</div>"
      ],
      "text/plain": [
       "  Character_in_show color_of_hair   Height  Football_Shaped_Head\n",
       "0            Arnold        blonde  average                  True\n",
       "1            Gerald         black  tallish                 False\n",
       "2             Helga        blonde  tallish                 False\n",
       "3            Phoebe         black    short                 False\n",
       "4            Harold       unknown     tall                 False\n",
       "5            Eugene           red    short                 False"
      ]
     },
     "execution_count": 2,
     "metadata": {},
     "output_type": "execute_result"
    }
   ],
   "source": [
    "# Create a data frame with given columns and value\n",
    "hey_arnold = pd.DataFrame(\n",
    "    {\"Character_in_show\": [\"Arnold\", \"Gerald\", \"Helga\", \"Phoebe\", \"Harold\", \"Eugene\"],\n",
    "     \"color_of_hair\": [\"blonde\", \"black\", \"blonde\", \"black\", \"unknown\", \"red\"],\n",
    "     \"Height\": [\"average\", \"tallish\", \"tallish\", \"short\", \"tall\", \"short\"],\n",
    "     \"Football_Shaped_Head\": [True, False, False, False, False, False]\n",
    "     })\n",
    "\n",
    "hey_arnold"
   ]
  },
  {
   "cell_type": "code",
   "execution_count": null,
   "metadata": {},
   "outputs": [],
   "source": [
    ", ,  "
   ]
  },
  {
   "cell_type": "code",
   "execution_count": 6,
   "metadata": {},
   "outputs": [],
   "source": [
    "# Rename columns to clean up the look\n",
    "Hey_Arnold = hey_arnold.rename(columns={\"Character_in_show\":\"Character\",\n",
    "\"color_of_hair\": \"Hair Color\", \"Football_Shaped_Head\":\"Football Head\"})"
   ]
  },
  {
   "cell_type": "code",
   "execution_count": 8,
   "metadata": {},
   "outputs": [],
   "source": [
    "# Organize columns into a more logical order\n",
    "Hey_Arnold = Hey_Arnold[[\"Character\",\"Football Head\",\"Hair Color\",\"Height\"]]"
   ]
  },
  {
   "cell_type": "code",
   "execution_count": 9,
   "metadata": {},
   "outputs": [
    {
     "data": {
      "text/html": [
       "<div>\n",
       "<style scoped>\n",
       "    .dataframe tbody tr th:only-of-type {\n",
       "        vertical-align: middle;\n",
       "    }\n",
       "\n",
       "    .dataframe tbody tr th {\n",
       "        vertical-align: top;\n",
       "    }\n",
       "\n",
       "    .dataframe thead th {\n",
       "        text-align: right;\n",
       "    }\n",
       "</style>\n",
       "<table border=\"1\" class=\"dataframe\">\n",
       "  <thead>\n",
       "    <tr style=\"text-align: right;\">\n",
       "      <th></th>\n",
       "      <th>Character</th>\n",
       "      <th>Football Head</th>\n",
       "      <th>Hair Color</th>\n",
       "      <th>Height</th>\n",
       "    </tr>\n",
       "  </thead>\n",
       "  <tbody>\n",
       "    <tr>\n",
       "      <th>0</th>\n",
       "      <td>Arnold</td>\n",
       "      <td>True</td>\n",
       "      <td>blonde</td>\n",
       "      <td>average</td>\n",
       "    </tr>\n",
       "    <tr>\n",
       "      <th>1</th>\n",
       "      <td>Gerald</td>\n",
       "      <td>False</td>\n",
       "      <td>black</td>\n",
       "      <td>tallish</td>\n",
       "    </tr>\n",
       "    <tr>\n",
       "      <th>2</th>\n",
       "      <td>Helga</td>\n",
       "      <td>False</td>\n",
       "      <td>blonde</td>\n",
       "      <td>tallish</td>\n",
       "    </tr>\n",
       "    <tr>\n",
       "      <th>3</th>\n",
       "      <td>Phoebe</td>\n",
       "      <td>False</td>\n",
       "      <td>black</td>\n",
       "      <td>short</td>\n",
       "    </tr>\n",
       "    <tr>\n",
       "      <th>4</th>\n",
       "      <td>Harold</td>\n",
       "      <td>False</td>\n",
       "      <td>unknown</td>\n",
       "      <td>tall</td>\n",
       "    </tr>\n",
       "    <tr>\n",
       "      <th>5</th>\n",
       "      <td>Eugene</td>\n",
       "      <td>False</td>\n",
       "      <td>red</td>\n",
       "      <td>short</td>\n",
       "    </tr>\n",
       "  </tbody>\n",
       "</table>\n",
       "</div>"
      ],
      "text/plain": [
       "  Character  Football Head Hair Color   Height\n",
       "0    Arnold           True     blonde  average\n",
       "1    Gerald          False      black  tallish\n",
       "2     Helga          False     blonde  tallish\n",
       "3    Phoebe          False      black    short\n",
       "4    Harold          False    unknown     tall\n",
       "5    Eugene          False        red    short"
      ]
     },
     "execution_count": 9,
     "metadata": {},
     "output_type": "execute_result"
    }
   ],
   "source": [
    "Hey_Arnold"
   ]
  },
  {
   "cell_type": "code",
   "execution_count": 10,
   "metadata": {},
   "outputs": [],
   "source": [
    "# Export new data\n",
    "with pd.ExcelWriter('Arnold_data.xlsx') as writer:\n",
    "    Hey_Arnold.to_excel(writer, sheet_name=\"Arnold data\")"
   ]
  },
  {
   "cell_type": "code",
   "execution_count": null,
   "metadata": {},
   "outputs": [],
   "source": []
  }
 ],
 "metadata": {
  "kernel_info": {
   "name": "python3"
  },
  "kernelspec": {
   "display_name": "Python 3",
   "language": "python",
   "name": "python3"
  },
  "language_info": {
   "codemirror_mode": {
    "name": "ipython",
    "version": 3
   },
   "file_extension": ".py",
   "mimetype": "text/x-python",
   "name": "python",
   "nbconvert_exporter": "python",
   "pygments_lexer": "ipython3",
   "version": "3.6.5"
  },
  "nteract": {
   "version": "0.2.0"
  }
 },
 "nbformat": 4,
 "nbformat_minor": 2
}
