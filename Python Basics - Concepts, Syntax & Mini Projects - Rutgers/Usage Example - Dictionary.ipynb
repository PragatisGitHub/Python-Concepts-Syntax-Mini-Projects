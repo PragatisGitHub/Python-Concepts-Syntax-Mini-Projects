{
 "cells": [
  {
   "cell_type": "code",
   "execution_count": 1,
   "metadata": {},
   "outputs": [],
   "source": [
    "# Unlike lists, dictionaries store information in pairs\n",
    "# ---------------------------------------------------------------"
   ]
  },
  {
   "cell_type": "code",
   "execution_count": null,
   "metadata": {},
   "outputs": [],
   "source": [
    "# 03Activities02-Ins_Dicts"
   ]
  },
  {
   "cell_type": "code",
   "execution_count": 2,
   "metadata": {},
   "outputs": [],
   "source": [
    "# A list of actors\n",
    "actors = [\"Tom Cruise\",\n",
    "            \"Angelina Jolie\",\n",
    "            \"Kristen Stewart\",\n",
    "            \"Denzel Washington\"]"
   ]
  },
  {
   "cell_type": "code",
   "execution_count": 3,
   "metadata": {},
   "outputs": [
    {
     "name": "stdout",
     "output_type": "stream",
     "text": [
      "Tom Cruise\n"
     ]
    }
   ],
   "source": [
    "# A dictionary of an actor\n",
    "actor = {\"name\": \"Tom Cruise\"}\n",
    "print(f'{actor[\"name\"]}')\n",
    "\n",
    "# ---------------------------------------------------------------"
   ]
  },
  {
   "cell_type": "code",
   "execution_count": 4,
   "metadata": {},
   "outputs": [],
   "source": [
    "# A dictionary can contain multiple pairs of information\n",
    "actress = {\"name\": \"Angelina Jolie\", \"genre\": \"Action\", \"nationality\": \"United States\"}\n",
    "\n",
    "# ---------------------------------------------------------------"
   ]
  },
  {
   "cell_type": "code",
   "execution_count": 5,
   "metadata": {},
   "outputs": [
    {
     "name": "stdout",
     "output_type": "stream",
     "text": [
      "Sylvester Stallone was in Rocky\n"
     ]
    }
   ],
   "source": [
    "# A dictionary can contain multiple types of information\n",
    "another_actor = {\"name\": \"Sylvester Stallone\", \"age\": 62, \"married\": True, \"best movies\": [\"Rocky\", \"Rocky 2\", \"Rocky 3\"]}\n",
    "print(f'{another_actor[\"name\"]} was in {another_actor[\"best movies\"][0]}')\n",
    "# ---------------------------------------------------------------"
   ]
  },
  {
   "cell_type": "code",
   "execution_count": 6,
   "metadata": {},
   "outputs": [
    {
     "name": "stdout",
     "output_type": "stream",
     "text": [
      "Interstellar made 360 in the US.\n"
     ]
    }
   ],
   "source": [
    "# A dictionary can even contain another dictionary\n",
    "film = {\"title\": \"Interstellar\",\n",
    "        \"revenues\": {\"United States\": 360, \"China\": 250, \"United Kingdom\": 73}}\n",
    "print(f'{film[\"title\"]} made {film[\"revenues\"][\"United States\"]}'\" in the US.\")\n",
    "# ---------------------------------------------------------------"
   ]
  },
  {
   "cell_type": "code",
   "execution_count": null,
   "metadata": {},
   "outputs": [],
   "source": []
  }
 ],
 "metadata": {
  "kernelspec": {
   "display_name": "Python 3",
   "language": "python",
   "name": "python3"
  },
  "language_info": {
   "codemirror_mode": {
    "name": "ipython",
    "version": 3
   },
   "file_extension": ".py",
   "mimetype": "text/x-python",
   "name": "python",
   "nbconvert_exporter": "python",
   "pygments_lexer": "ipython3",
   "version": "3.6.5"
  }
 },
 "nbformat": 4,
 "nbformat_minor": 2
}
