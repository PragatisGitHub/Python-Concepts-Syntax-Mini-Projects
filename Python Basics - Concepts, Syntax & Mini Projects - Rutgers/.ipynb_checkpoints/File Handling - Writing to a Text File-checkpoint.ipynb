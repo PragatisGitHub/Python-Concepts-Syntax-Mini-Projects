{
 "cells": [
  {
   "cell_type": "code",
   "execution_count": 2,
   "metadata": {},
   "outputs": [],
   "source": [
    "# Store the file path associated with the file (note the backslash may be OS specific)\n",
    "txt_output = 'Output/TextWrite.txt'"
   ]
  },
  {
   "cell_type": "code",
   "execution_count": 3,
   "metadata": {},
   "outputs": [],
   "source": [
    "#Writing to a text file\n",
    "with open(txt_output,'w') as texthandler:\n",
    "    texthandler.write(f'Data Analysis\\n')\n",
    "    texthandler.write(f'---------------------------\\n')\n",
    "    texthandler.write(f'End of File')"
   ]
  }
 ],
 "metadata": {
  "kernelspec": {
   "display_name": "Python 3",
   "language": "python",
   "name": "python3"
  },
  "language_info": {
   "codemirror_mode": {
    "name": "ipython",
    "version": 3
   },
   "file_extension": ".py",
   "mimetype": "text/x-python",
   "name": "python",
   "nbconvert_exporter": "python",
   "pygments_lexer": "ipython3",
   "version": "3.6.5"
  }
 },
 "nbformat": 4,
 "nbformat_minor": 2
}
