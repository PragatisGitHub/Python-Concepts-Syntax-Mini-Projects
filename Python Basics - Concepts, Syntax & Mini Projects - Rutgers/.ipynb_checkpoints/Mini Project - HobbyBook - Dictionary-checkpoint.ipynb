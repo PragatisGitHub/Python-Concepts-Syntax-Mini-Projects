{
 "cells": [
  {
   "cell_type": "markdown",
   "metadata": {},
   "source": [
    "# Info in Dictionaries\n",
    "\n",
    "## Instructions\n",
    "\n",
    "* Create a dictionary to store the following:\n",
    "\n",
    "  * Your name\n",
    "  * Your age\n",
    "  * A list of a few of your hobbies\n",
    "  * A dictionary of a few times you wake up during the week\n",
    "\n",
    "* Print out your name, how many hobbies you have and a time you get up during the week."
   ]
  },
  {
   "cell_type": "code",
   "execution_count": 1,
   "metadata": {},
   "outputs": [],
   "source": [
    "HobbyBook = {\"Name\":\"Pragati\",\"Age\":37,\"Hobbies\":[\"Writing\",\"Reading\",\"Cooking\",\"Dancing\"],\"WakeupTime\":{\"Monday\":\"6:00\",\"Tuesday\"\\\n",
    "                                                                                                        :\"5:30\",\"Wednesday\":\"5:30\"\\\n",
    "                                                                                                        }}"
   ]
  },
  {
   "cell_type": "code",
   "execution_count": 3,
   "metadata": {},
   "outputs": [
    {
     "name": "stdout",
     "output_type": "stream",
     "text": [
      "My Name is Pragati\n"
     ]
    }
   ],
   "source": [
    "print(\"My Name is \" + HobbyBook[\"Name\"])"
   ]
  },
  {
   "cell_type": "code",
   "execution_count": 14,
   "metadata": {},
   "outputs": [
    {
     "name": "stdout",
     "output_type": "stream",
     "text": [
      "I have 4 hobbies\n"
     ]
    }
   ],
   "source": [
    "print(\"I have \" + str(len(HobbyBook[\"Hobbies\"])) + \" hobbies\")"
   ]
  },
  {
   "cell_type": "code",
   "execution_count": 19,
   "metadata": {},
   "outputs": [
    {
     "data": {
      "text/plain": [
       "'6:00'"
      ]
     },
     "execution_count": 19,
     "metadata": {},
     "output_type": "execute_result"
    }
   ],
   "source": [
    "HobbyBook[\"WakeupTime\"][\"Monday\"]"
   ]
  },
  {
   "cell_type": "code",
   "execution_count": 21,
   "metadata": {},
   "outputs": [
    {
     "name": "stdout",
     "output_type": "stream",
     "text": [
      "I wake at 6:00 usually.\n"
     ]
    }
   ],
   "source": [
    "print(\"I wake at \"+ HobbyBook[\"WakeupTime\"][\"Monday\"] + \" usually.\")"
   ]
  }
 ],
 "metadata": {
  "kernelspec": {
   "display_name": "Python 3",
   "language": "python",
   "name": "python3"
  },
  "language_info": {
   "codemirror_mode": {
    "name": "ipython",
    "version": 3
   },
   "file_extension": ".py",
   "mimetype": "text/x-python",
   "name": "python",
   "nbconvert_exporter": "python",
   "pygments_lexer": "ipython3",
   "version": "3.6.5"
  }
 },
 "nbformat": 4,
 "nbformat_minor": 2
}
