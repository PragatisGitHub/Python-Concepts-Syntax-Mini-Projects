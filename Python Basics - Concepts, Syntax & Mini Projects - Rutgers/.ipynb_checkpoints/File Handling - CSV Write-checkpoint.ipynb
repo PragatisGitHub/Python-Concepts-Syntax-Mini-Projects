{
 "cells": [
  {
   "cell_type": "code",
   "execution_count": 1,
   "metadata": {},
   "outputs": [],
   "source": [
    "# Dependencies\n",
    "import os\n",
    "import csv"
   ]
  },
  {
   "cell_type": "code",
   "execution_count": 2,
   "metadata": {},
   "outputs": [],
   "source": [
    "# Specify the file to write to\n",
    "# output_path = os.path.join(\"..\", \"output\", \"new.csv\")\n",
    "output_path = os.path.join(\"Output\", \"new.csv\")"
   ]
  },
  {
   "cell_type": "code",
   "execution_count": 3,
   "metadata": {},
   "outputs": [],
   "source": [
    "# Open the file using \"write\" mode. Specify the variable to hold the contents\n",
    "with open(output_path, 'w', newline='') as csvfile:\n",
    "\n",
    "    # Initialize csv.writer\n",
    "    csvwriter = csv.writer(csvfile, delimiter=',')\n",
    "\n",
    "    # Write the first row (column headers)\n",
    "    csvwriter.writerow(['First Name', 'Last Name', 'SSN'])\n",
    "\n",
    "    # Write the second row\n",
    "    csvwriter.writerow(['Caleb', 'Frost', '505-80-2901'])"
   ]
  },
  {
   "cell_type": "code",
   "execution_count": null,
   "metadata": {},
   "outputs": [],
   "source": [
    "# # First we'll import the os module\n",
    "# # This will allow us to create file paths across operating systems\n",
    "# import os\n",
    "\n",
    "# # Module for reading CSV's\n",
    "# import csv"
   ]
  },
  {
   "cell_type": "code",
   "execution_count": 4,
   "metadata": {},
   "outputs": [],
   "source": [
    "# csvpath = os.path.join('..', 'Resources', 'accounting.csv')\n",
    "csvpath = os.path.join('Resources', 'accounting.csv')"
   ]
  },
  {
   "cell_type": "code",
   "execution_count": 6,
   "metadata": {},
   "outputs": [
    {
     "name": "stdout",
     "output_type": "stream",
     "text": [
      "First Name,Last Name,SSN\n",
      "Tina,Fleming,619-16-7988\n",
      "Erica,Shah,164-51-7615\n",
      "Paula,Ortiz,051-83-3290\n",
      "James,Hendricks,776-83-2884\n",
      "Lauren,King,197-94-2398\n",
      "David,Cowan,252-92-1832\n",
      "Andrew,Burton,296-23-6842\n",
      "Julian,Baker,337-40-7543\n",
      "Scott,Castro,399-46-5595\n",
      "Billy,Rodriguez,014-18-2503\n",
      "Darrell,Leblanc,005-82-7918\n",
      "David,Hammond,561-17-6312\n",
      "\n",
      "<class 'str'>\n"
     ]
    }
   ],
   "source": [
    "# Method 1: Plain Reading of CSVs\n",
    "with open(csvpath, 'r') as file_handler:\n",
    "    lines = file_handler.read()\n",
    "    print(lines)\n",
    "    print(type(lines))"
   ]
  },
  {
   "cell_type": "code",
   "execution_count": 5,
   "metadata": {},
   "outputs": [
    {
     "name": "stdout",
     "output_type": "stream",
     "text": [
      "<_csv.reader object at 0x000002325ED8E798>\n",
      "CSV Header: ['First Name', 'Last Name', 'SSN']\n",
      "['Tina', 'Fleming', '619-16-7988']\n",
      "['Erica', 'Shah', '164-51-7615']\n",
      "['Paula', 'Ortiz', '051-83-3290']\n",
      "['James', 'Hendricks', '776-83-2884']\n",
      "['Lauren', 'King', '197-94-2398']\n",
      "['David', 'Cowan', '252-92-1832']\n",
      "['Andrew', 'Burton', '296-23-6842']\n",
      "['Julian', 'Baker', '337-40-7543']\n",
      "['Scott', 'Castro', '399-46-5595']\n",
      "['Billy', 'Rodriguez', '014-18-2503']\n",
      "['Darrell', 'Leblanc', '005-82-7918']\n",
      "['David', 'Hammond', '561-17-6312']\n"
     ]
    }
   ],
   "source": [
    "# Method 2: Improved Reading using CSV module\n",
    "\n",
    "with open(csvpath, newline='') as csvfile:\n",
    "\n",
    "    # CSV reader specifies delimiter and variable that holds contents\n",
    "    csvreader = csv.reader(csvfile, delimiter=',')\n",
    "\n",
    "    print(csvreader)\n",
    "\n",
    "    # Read the header row first (skip this step if there is now header)\n",
    "    csv_header = next(csvreader)\n",
    "    print(f\"CSV Header: {csv_header}\")\n",
    "\n",
    "    # Read each row of data after the header\n",
    "    for row in csvreader:\n",
    "        print(row)"
   ]
  },
  {
   "cell_type": "code",
   "execution_count": null,
   "metadata": {},
   "outputs": [],
   "source": []
  }
 ],
 "metadata": {
  "kernelspec": {
   "display_name": "Python 3",
   "language": "python",
   "name": "python3"
  },
  "language_info": {
   "codemirror_mode": {
    "name": "ipython",
    "version": 3
   },
   "file_extension": ".py",
   "mimetype": "text/x-python",
   "name": "python",
   "nbconvert_exporter": "python",
   "pygments_lexer": "ipython3",
   "version": "3.6.5"
  }
 },
 "nbformat": 4,
 "nbformat_minor": 2
}
