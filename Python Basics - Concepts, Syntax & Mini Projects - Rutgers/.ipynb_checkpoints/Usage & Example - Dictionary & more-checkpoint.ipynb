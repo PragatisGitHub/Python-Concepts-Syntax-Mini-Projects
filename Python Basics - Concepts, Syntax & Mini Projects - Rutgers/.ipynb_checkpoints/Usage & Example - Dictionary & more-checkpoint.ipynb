{
 "cells": [
  {
   "cell_type": "code",
   "execution_count": 9,
   "metadata": {},
   "outputs": [],
   "source": [
    "HobbyBook = {\"Name\":\"Pragati\",\"Age\":50,\"Hobbies\":[\"Writing\",\"Reading\",\"Cooking\",\"Dancing\"],\"WakeupTime\":{\"Monday\":\"6:00\",\"Tuesday\"\\\n",
    "                                                                                                        :\"5:30\",\"Wednesday\":\"5:30\"\\\n",
    "                                                                                                        }}"
   ]
  },
  {
   "cell_type": "code",
   "execution_count": 10,
   "metadata": {},
   "outputs": [
    {
     "name": "stdout",
     "output_type": "stream",
     "text": [
      "{'Name': 'Pragati', 'Age': 50, 'Hobbies': ['Writing', 'Reading', 'Cooking', 'Dancing'], 'WakeupTime': {'Monday': '6:00', 'Tuesday': '5:30', 'Wednesday': '5:30'}}\n"
     ]
    }
   ],
   "source": [
    "print(HobbyBook)"
   ]
  },
  {
   "cell_type": "code",
   "execution_count": 11,
   "metadata": {},
   "outputs": [
    {
     "name": "stdout",
     "output_type": "stream",
     "text": [
      "Number of keys present in the HobbyBook is 4\n"
     ]
    }
   ],
   "source": [
    "print(f'Number of keys present in the HobbyBook is {len(HobbyBook)}')"
   ]
  },
  {
   "cell_type": "code",
   "execution_count": 12,
   "metadata": {},
   "outputs": [
    {
     "data": {
      "text/plain": [
       "dict_items([('Name', 'Pragati'), ('Age', 50), ('Hobbies', ['Writing', 'Reading', 'Cooking', 'Dancing']), ('WakeupTime', {'Monday': '6:00', 'Tuesday': '5:30', 'Wednesday': '5:30'})])"
      ]
     },
     "execution_count": 12,
     "metadata": {},
     "output_type": "execute_result"
    }
   ],
   "source": [
    "HobbyBook.items()"
   ]
  },
  {
   "cell_type": "code",
   "execution_count": 13,
   "metadata": {},
   "outputs": [
    {
     "data": {
      "text/plain": [
       "dict_keys(['Name', 'Age', 'Hobbies', 'WakeupTime'])"
      ]
     },
     "execution_count": 13,
     "metadata": {},
     "output_type": "execute_result"
    }
   ],
   "source": [
    "HobbyBook.keys()"
   ]
  },
  {
   "cell_type": "code",
   "execution_count": 14,
   "metadata": {},
   "outputs": [
    {
     "data": {
      "text/plain": [
       "dict_values(['Pragati', 50, ['Writing', 'Reading', 'Cooking', 'Dancing'], {'Monday': '6:00', 'Tuesday': '5:30', 'Wednesday': '5:30'}])"
      ]
     },
     "execution_count": 14,
     "metadata": {},
     "output_type": "execute_result"
    }
   ],
   "source": [
    "HobbyBook.values()"
   ]
  },
  {
   "cell_type": "code",
   "execution_count": 17,
   "metadata": {},
   "outputs": [
    {
     "data": {
      "text/plain": [
       "'Pragati'"
      ]
     },
     "execution_count": 17,
     "metadata": {},
     "output_type": "execute_result"
    }
   ],
   "source": [
    "HobbyBook['Name']"
   ]
  },
  {
   "cell_type": "code",
   "execution_count": 18,
   "metadata": {},
   "outputs": [
    {
     "data": {
      "text/plain": [
       "50"
      ]
     },
     "execution_count": 18,
     "metadata": {},
     "output_type": "execute_result"
    }
   ],
   "source": [
    "My_Age = HobbyBook['Age']\n",
    "My_Age"
   ]
  },
  {
   "cell_type": "code",
   "execution_count": 19,
   "metadata": {},
   "outputs": [
    {
     "data": {
      "text/plain": [
       "50"
      ]
     },
     "execution_count": 19,
     "metadata": {},
     "output_type": "execute_result"
    }
   ],
   "source": [
    "HobbyBook.pop('Age')"
   ]
  },
  {
   "cell_type": "code",
   "execution_count": 20,
   "metadata": {},
   "outputs": [
    {
     "data": {
      "text/plain": [
       "{'Name': 'Pragati',\n",
       " 'Hobbies': ['Writing', 'Reading', 'Cooking', 'Dancing'],\n",
       " 'WakeupTime': {'Monday': '6:00', 'Tuesday': '5:30', 'Wednesday': '5:30'}}"
      ]
     },
     "execution_count": 20,
     "metadata": {},
     "output_type": "execute_result"
    }
   ],
   "source": [
    "HobbyBook"
   ]
  },
  {
   "cell_type": "code",
   "execution_count": 21,
   "metadata": {},
   "outputs": [],
   "source": [
    "HobbyBook['Age'] = 51"
   ]
  },
  {
   "cell_type": "code",
   "execution_count": 22,
   "metadata": {},
   "outputs": [
    {
     "data": {
      "text/plain": [
       "{'Name': 'Pragati',\n",
       " 'Hobbies': ['Writing', 'Reading', 'Cooking', 'Dancing'],\n",
       " 'WakeupTime': {'Monday': '6:00', 'Tuesday': '5:30', 'Wednesday': '5:30'},\n",
       " 'Age': 51}"
      ]
     },
     "execution_count": 22,
     "metadata": {},
     "output_type": "execute_result"
    }
   ],
   "source": [
    "HobbyBook"
   ]
  },
  {
   "cell_type": "code",
   "execution_count": 24,
   "metadata": {},
   "outputs": [
    {
     "name": "stdout",
     "output_type": "stream",
     "text": [
      "Name Pragati\n",
      "Hobbies ['Writing', 'Reading', 'Cooking', 'Dancing']\n",
      "WakeupTime {'Monday': '6:00', 'Tuesday': '5:30', 'Wednesday': '5:30'}\n",
      "Age 51\n"
     ]
    }
   ],
   "source": [
    "for keys,values in HobbyBook.items():\n",
    "    print(keys,values)"
   ]
  },
  {
   "cell_type": "code",
   "execution_count": 25,
   "metadata": {},
   "outputs": [],
   "source": [
    "# How to access a key that doesn't exist"
   ]
  },
  {
   "cell_type": "code",
   "execution_count": 29,
   "metadata": {},
   "outputs": [
    {
     "name": "stdout",
     "output_type": "stream",
     "text": [
      "Not Found\n"
     ]
    }
   ],
   "source": [
    "print(HobbyBook.get(\"School\",\"Not Found\"))"
   ]
  },
  {
   "cell_type": "code",
   "execution_count": 30,
   "metadata": {},
   "outputs": [],
   "source": [
    "del HobbyBook[\"Age\"]"
   ]
  },
  {
   "cell_type": "code",
   "execution_count": 31,
   "metadata": {},
   "outputs": [
    {
     "data": {
      "text/plain": [
       "{'Name': 'Pragati',\n",
       " 'Hobbies': ['Writing', 'Reading', 'Cooking', 'Dancing'],\n",
       " 'WakeupTime': {'Monday': '6:00', 'Tuesday': '5:30', 'Wednesday': '5:30'}}"
      ]
     },
     "execution_count": 31,
     "metadata": {},
     "output_type": "execute_result"
    }
   ],
   "source": [
    "HobbyBook"
   ]
  },
  {
   "cell_type": "code",
   "execution_count": null,
   "metadata": {},
   "outputs": [],
   "source": [
    "# HobbyBook.update({})"
   ]
  }
 ],
 "metadata": {
  "kernelspec": {
   "display_name": "Python 3",
   "language": "python",
   "name": "python3"
  },
  "language_info": {
   "codemirror_mode": {
    "name": "ipython",
    "version": 3
   },
   "file_extension": ".py",
   "mimetype": "text/x-python",
   "name": "python",
   "nbconvert_exporter": "python",
   "pygments_lexer": "ipython3",
   "version": "3.6.5"
  }
 },
 "nbformat": 4,
 "nbformat_minor": 2
}
