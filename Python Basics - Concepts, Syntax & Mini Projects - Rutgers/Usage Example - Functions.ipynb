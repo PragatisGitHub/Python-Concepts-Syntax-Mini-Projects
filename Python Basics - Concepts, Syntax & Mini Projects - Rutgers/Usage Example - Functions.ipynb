{
 "cells": [
  {
   "cell_type": "code",
   "execution_count": null,
   "metadata": {},
   "outputs": [],
   "source": [
    "# Define the function and tell it to print \"Hello!\" when called\n",
    "def printHello():\n",
    "    print(\"Hello!\")\n",
    "# Call the function within the application to ensure the code is run\n",
    "printHello()\n",
    "# -------------#"
   ]
  },
  {
   "cell_type": "code",
   "execution_count": null,
   "metadata": {},
   "outputs": [],
   "source": [
    "# Functions that take in and use parameters can also be defined\n",
    "def printName(name):\n",
    "    print(\"Hello \" + name + \"!\")\n",
    "# When calling a function with a parameter, a parameter must be passed into the function\n",
    "printName(\"Bob Smith\")\n",
    "# -------------#"
   ]
  },
  {
   "cell_type": "code",
   "execution_count": null,
   "metadata": {},
   "outputs": [],
   "source": [
    "# The prime use case for functions is in being able to run the same code for different values\n",
    "listOne = [1, 2, 3, 4, 5, 6, 7, 8, 9, 10]\n",
    "listTwo = [11, 12, 13, 14, 15]\n",
    "\n",
    "\n",
    "def listInformation(simpleList):\n",
    "    print(\"The values within the list are...\")\n",
    "    for value in simpleList:\n",
    "        print(value)\n",
    "    print(\"The length of this list is... \" + str(len(simpleList)))\n",
    "\n",
    "listInformation(listOne)\n",
    "listInformation(listTwo)"
   ]
  },
  {
   "cell_type": "code",
   "execution_count": null,
   "metadata": {},
   "outputs": [],
   "source": [
    "# Basic Definition\n",
    "def name(parameters):\n",
    "    # code goes here\n",
    "    return"
   ]
  },
  {
   "cell_type": "code",
   "execution_count": null,
   "metadata": {},
   "outputs": [],
   "source": [
    "# Simple Function with no parameters\n",
    "def show():\n",
    "    print(f\"Hi!\")\n",
    "\n",
    "# You use parenthesis to run the code in a function\n",
    "show()\n",
    "\n",
    "\n",
    "# Simple function with one parameter\n",
    "def show(message):\n",
    "    print(message)\n",
    "\n",
    "# Think of the parameter `message` as a variable\n",
    "# You assign the string \"Hello, World!\" when you call the function\n",
    "# This is like saying `message = \"Hello, World!\"`\n",
    "show(\"Hello, World!\")"
   ]
  },
  {
   "cell_type": "code",
   "execution_count": null,
   "metadata": {},
   "outputs": [],
   "source": [
    "# Functions can have more than one parameter\n",
    "def make_quesadilla(protein, topping):\n",
    "    quesadilla = f\"Here is a {protein} quesadilla with {topping}\"\n",
    "    print(quesadilla)\n",
    "\n",
    "# Supply the arguments (values) when calling the function\n",
    "make_quesadilla(\"beef\", \"guacamole\")\n",
    "make_quesadilla(\"chicken\", \"salsa\")\n",
    "\n",
    "# @NOTE: Order is important when supplying arguments!\n",
    "make_quesadilla(\"sour cream\", \"beef\")"
   ]
  },
  {
   "cell_type": "code",
   "execution_count": null,
   "metadata": {},
   "outputs": [],
   "source": [
    "# We can also specify default values for parameters\n",
    "def make_quesadilla(protein, topping=\"sour cream\"):\n",
    "    quesadilla = f\"Here is a {protein} quesadilla with {topping}\"\n",
    "    print(quesadilla)\n",
    "\n",
    "# Make a quesadilla using the default topping\n",
    "make_quesadilla(\"chicken\")\n",
    "\n",
    "# Make a quesadilla with a new topping\n",
    "make_quesadilla(\"beef\", \"guacamole\")"
   ]
  },
  {
   "cell_type": "code",
   "execution_count": null,
   "metadata": {},
   "outputs": [],
   "source": [
    "# Functions can return a value\n",
    "def square(number):\n",
    "    return number * number\n",
    "\n",
    "# You can save the value that is returned\n",
    "squared = square(2)\n",
    "print(squared)\n",
    "\n",
    "# You can also just print the return value of a function\n",
    "print(square(2))\n",
    "print(square(3))"
   ]
  }
 ],
 "metadata": {
  "kernelspec": {
   "display_name": "Python 3",
   "language": "python",
   "name": "python3"
  },
  "language_info": {
   "codemirror_mode": {
    "name": "ipython",
    "version": 3
   },
   "file_extension": ".py",
   "mimetype": "text/x-python",
   "name": "python",
   "nbconvert_exporter": "python",
   "pygments_lexer": "ipython3",
   "version": "3.6.5"
  }
 },
 "nbformat": 4,
 "nbformat_minor": 2
}
