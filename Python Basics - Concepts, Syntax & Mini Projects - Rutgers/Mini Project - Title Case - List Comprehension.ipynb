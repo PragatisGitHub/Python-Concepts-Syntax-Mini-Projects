{
 "cells": [
  {
   "cell_type": "markdown",
   "metadata": {},
   "source": [
    "# List Comprehension\n",
    "\n",
    "In this activity, you will use list comprehensions to compose a wedding invitation to send to every name on your mailing list.\n",
    "\n",
    "## Instructions\n",
    "\n",
    "* Note that nothing forces you to write the name \"properly\"—e.g., as \"Jane\" instead of \"jAnE\". You will use list comprehensions to fix this.\n",
    "\n",
    "  * First, use list comprehensions to create a new list that contains the lowercase version of each of the names your user provided.\n",
    "\n",
    "  * Then, use list comprehensions to create a new list that contains the title-cased versions of each of the names in your lower-cased list.\n",
    "\n",
    "## Bonuses\n",
    "\n",
    "* Instead of creating a lower-cased list and _then_ a title-cased list, create the title-cased list in a single comprehension.\n",
    "\n",
    "## Hints\n",
    "\n",
    "* See the documentation for the [title](https://docs.python.org/3/library/stdtypes.html#str.title) method.\n"
   ]
  },
  {
   "cell_type": "code",
   "execution_count": 3,
   "metadata": {},
   "outputs": [],
   "source": [
    "# 03Activities05-Stu_List_Comprehensions"
   ]
  },
  {
   "cell_type": "code",
   "execution_count": 34,
   "metadata": {},
   "outputs": [],
   "source": [
    "names = []"
   ]
  },
  {
   "cell_type": "code",
   "execution_count": 53,
   "metadata": {},
   "outputs": [
    {
     "name": "stdout",
     "output_type": "stream",
     "text": [
      "Enter names of the invites lhlh\n",
      "Enter names of the invites vjjgK\n",
      "Enter names of the invites nkhkfUlj\n",
      "Enter names of the invites Mr.xcv\n",
      "Enter names of the invites MRIJLJ\n"
     ]
    }
   ],
   "source": [
    "for i in range(5):\n",
    "    name = input(\"Enter names of the invites \")\n",
    "    names.append(name)"
   ]
  },
  {
   "cell_type": "code",
   "execution_count": 56,
   "metadata": {},
   "outputs": [],
   "source": [
    "Lower_name = []\n",
    "Lower_name = [i.lower() for i in names]"
   ]
  },
  {
   "cell_type": "code",
   "execution_count": 57,
   "metadata": {},
   "outputs": [
    {
     "data": {
      "text/plain": [
       "['kgkgk',\n",
       " 'asas',\n",
       " 'qwqe',\n",
       " 'gtk',\n",
       " 'nxx',\n",
       " 'lhlh',\n",
       " 'vjjgk',\n",
       " 'nkhkfulj',\n",
       " 'mr.xcv',\n",
       " 'mrijlj']"
      ]
     },
     "execution_count": 57,
     "metadata": {},
     "output_type": "execute_result"
    }
   ],
   "source": [
    "Lower_name"
   ]
  },
  {
   "cell_type": "code",
   "execution_count": 59,
   "metadata": {},
   "outputs": [],
   "source": [
    "Title_name = []\n",
    "Title_name = [i.title() for i in Lower_name]"
   ]
  },
  {
   "cell_type": "code",
   "execution_count": 60,
   "metadata": {},
   "outputs": [
    {
     "data": {
      "text/plain": [
       "['Kgkgk',\n",
       " 'Asas',\n",
       " 'Qwqe',\n",
       " 'Gtk',\n",
       " 'Nxx',\n",
       " 'Lhlh',\n",
       " 'Vjjgk',\n",
       " 'Nkhkfulj',\n",
       " 'Mr.Xcv',\n",
       " 'Mrijlj']"
      ]
     },
     "execution_count": 60,
     "metadata": {},
     "output_type": "execute_result"
    }
   ],
   "source": [
    "Title_name"
   ]
  },
  {
   "cell_type": "code",
   "execution_count": 65,
   "metadata": {},
   "outputs": [],
   "source": [
    "Title_names = []\n",
    "Title_names = [i.title() for i in [i.lower() for i in names]]"
   ]
  },
  {
   "cell_type": "code",
   "execution_count": 66,
   "metadata": {},
   "outputs": [
    {
     "data": {
      "text/plain": [
       "['Kgkgk',\n",
       " 'Asas',\n",
       " 'Qwqe',\n",
       " 'Gtk',\n",
       " 'Nxx',\n",
       " 'Lhlh',\n",
       " 'Vjjgk',\n",
       " 'Nkhkfulj',\n",
       " 'Mr.Xcv',\n",
       " 'Mrijlj']"
      ]
     },
     "execution_count": 66,
     "metadata": {},
     "output_type": "execute_result"
    }
   ],
   "source": [
    "Title_names"
   ]
  },
  {
   "cell_type": "code",
   "execution_count": 67,
   "metadata": {},
   "outputs": [],
   "source": [
    "invitation = [f\"Dear {invite} please visit us this weekend!\" for invite in Title_names]"
   ]
  },
  {
   "cell_type": "code",
   "execution_count": 68,
   "metadata": {},
   "outputs": [
    {
     "name": "stdout",
     "output_type": "stream",
     "text": [
      "Dear Kgkgk please visit us this weekend!\n",
      "Dear Asas please visit us this weekend!\n",
      "Dear Qwqe please visit us this weekend!\n",
      "Dear Gtk please visit us this weekend!\n",
      "Dear Nxx please visit us this weekend!\n",
      "Dear Lhlh please visit us this weekend!\n",
      "Dear Vjjgk please visit us this weekend!\n",
      "Dear Nkhkfulj please visit us this weekend!\n",
      "Dear Mr.Xcv please visit us this weekend!\n",
      "Dear Mrijlj please visit us this weekend!\n"
     ]
    }
   ],
   "source": [
    "for i in invitation:\n",
    "    print(i)"
   ]
  },
  {
   "cell_type": "code",
   "execution_count": null,
   "metadata": {},
   "outputs": [],
   "source": []
  },
  {
   "cell_type": "code",
   "execution_count": null,
   "metadata": {},
   "outputs": [],
   "source": []
  }
 ],
 "metadata": {
  "kernelspec": {
   "display_name": "Python 3",
   "language": "python",
   "name": "python3"
  },
  "language_info": {
   "codemirror_mode": {
    "name": "ipython",
    "version": 3
   },
   "file_extension": ".py",
   "mimetype": "text/x-python",
   "name": "python",
   "nbconvert_exporter": "python",
   "pygments_lexer": "ipython3",
   "version": "3.6.5"
  }
 },
 "nbformat": 4,
 "nbformat_minor": 2
}
