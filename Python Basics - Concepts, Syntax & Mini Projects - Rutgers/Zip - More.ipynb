{
 "cells": [
  {
   "cell_type": "markdown",
   "metadata": {},
   "source": [
    "# zip() in Python\n",
    "### The purpose of zip() is to map the similar index of multiple containers so that they can be used just using as single entity. "
   ]
  },
  {
   "cell_type": "markdown",
   "metadata": {},
   "source": [
    "https://www.geeksforgeeks.org/zip-in-python/"
   ]
  },
  {
   "cell_type": "code",
   "execution_count": null,
   "metadata": {},
   "outputs": [],
   "source": []
  },
  {
   "cell_type": "markdown",
   "metadata": {},
   "source": [
    "https://www.journaldev.com/15891/python-zip-function"
   ]
  },
  {
   "cell_type": "code",
   "execution_count": 3,
   "metadata": {},
   "outputs": [
    {
     "name": "stdout",
     "output_type": "stream",
     "text": [
      "\n",
      "Printing the values of zip\n",
      "('Alpha', 'one')\n",
      "('Beta', 'two')\n",
      "('Gamma', 'three')\n",
      "('Sigma', 'six')\n"
     ]
    }
   ],
   "source": [
    "# test = zip()\n",
    "\n",
    "# referring a zip class\n",
    "# print('The type of an empty zip : ', type(test))\n",
    "\n",
    "list1 = ['Alpha', 'Beta', 'Gamma', 'Sigma']\n",
    "list2 = ['one', 'two', 'three', 'six']\n",
    "\n",
    "test = zip(list1, list2)  # zip the values\n",
    "\n",
    "print('\\nPrinting the values of zip')\n",
    "for values in test:\n",
    "    print(values)  # print each tuples\n"
   ]
  },
  {
   "cell_type": "code",
   "execution_count": 4,
   "metadata": {},
   "outputs": [
    {
     "name": "stdout",
     "output_type": "stream",
     "text": [
      "\n",
      "Printing the values of zip\n",
      "('Alpha', 'one', 1)\n",
      "('Beta', 'two', 2)\n",
      "('Gamma', 'three', 3)\n",
      "Zip file contains  3 elements.\n"
     ]
    }
   ],
   "source": [
    "# list of 4 elements\n",
    "list1 = ['Alpha', 'Beta', 'Gamma', 'Sigma']\n",
    "# list of 5 elements\n",
    "list2 = ['one', 'two', 'three', 'six', 'five']\n",
    "# list of 3 elments\n",
    "list3 = [1, 2, 3]\n",
    "\n",
    "test = zip(list1, list2, list3)  # zip the values\n",
    "cnt = 0\n",
    "\n",
    "print('\\nPrinting the values of zip')\n",
    "for values in test:\n",
    "    print(values)  # print each tuples\n",
    "    cnt+=1\n",
    "\n",
    "print('Zip file contains ', cnt, 'elements.');\n"
   ]
  },
  {
   "cell_type": "code",
   "execution_count": 6,
   "metadata": {},
   "outputs": [
    {
     "data": {
      "text/plain": [
       "[('Alpha', 'one'), ('Beta', 'two'), ('Gamma', 'three'), ('Sigma', 'six')]"
      ]
     },
     "execution_count": 6,
     "metadata": {},
     "output_type": "execute_result"
    }
   ],
   "source": [
    "list1 = ['Alpha', 'Beta', 'Gamma', 'Sigma']\n",
    "list2 = ['one', 'two', 'three', 'six']\n",
    "\n",
    "test = zip(list1, list2)  # zip the values\n",
    "\n",
    "testList = list(test)\n",
    "testList"
   ]
  },
  {
   "cell_type": "code",
   "execution_count": 7,
   "metadata": {},
   "outputs": [],
   "source": [
    "Apple, Pie = zip( *testList )"
   ]
  },
  {
   "cell_type": "code",
   "execution_count": 8,
   "metadata": {},
   "outputs": [
    {
     "name": "stdout",
     "output_type": "stream",
     "text": [
      "The first list was  ['Alpha', 'Beta', 'Gamma', 'Sigma']\n",
      "The second list was  ['one', 'two', 'three', 'six']\n"
     ]
    }
   ],
   "source": [
    "print('The first list was ', list(Apple));\n",
    "print('The second list was ', list(Pie));"
   ]
  },
  {
   "cell_type": "code",
   "execution_count": null,
   "metadata": {},
   "outputs": [],
   "source": []
  }
 ],
 "metadata": {
  "kernelspec": {
   "display_name": "Python 3",
   "language": "python",
   "name": "python3"
  },
  "language_info": {
   "codemirror_mode": {
    "name": "ipython",
    "version": 3
   },
   "file_extension": ".py",
   "mimetype": "text/x-python",
   "name": "python",
   "nbconvert_exporter": "python",
   "pygments_lexer": "ipython3",
   "version": "3.6.5"
  }
 },
 "nbformat": 4,
 "nbformat_minor": 2
}
