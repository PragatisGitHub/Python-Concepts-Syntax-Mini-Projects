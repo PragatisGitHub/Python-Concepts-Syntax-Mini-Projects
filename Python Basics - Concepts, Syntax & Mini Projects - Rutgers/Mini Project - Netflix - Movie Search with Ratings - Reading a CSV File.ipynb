{
 "cells": [
  {
   "cell_type": "markdown",
   "metadata": {},
   "source": [
    "# Netflix lookup\n",
    "\n",
    "### Finding the info to some of netlfix's most popular videos\n",
    "\n",
    "## Instructions\n",
    "\n",
    "* Prompt the user for what video they are looking for.\n",
    "\n",
    "* Search through the `netflix_ratings.csv` to find the user's video.\n",
    "\n",
    "* If the CSV contains the user's video then print out the title, what it is rated and the current user ratings.\n",
    "\n",
    "  * For example \"Pup Star is rated G with a rating of 82\"\n",
    "\n",
    "* If the CSV does not contain the user's video then print out a message telling them that their video could not be found."
   ]
  },
  {
   "cell_type": "code",
   "execution_count": null,
   "metadata": {},
   "outputs": [],
   "source": [
    "# 02- Reading, Writing, and Pyrithmetic/08-Stu_ReadNetFlix"
   ]
  },
  {
   "cell_type": "code",
   "execution_count": 1,
   "metadata": {},
   "outputs": [],
   "source": [
    "import os\n",
    "import csv"
   ]
  },
  {
   "cell_type": "code",
   "execution_count": 6,
   "metadata": {},
   "outputs": [],
   "source": [
    "# inputfilepath = os.path.join(\"..\",\"Resources\",\"netflix_ratings.csv\")\n",
    "inputfilepath = os.path.join(\"Resources\",\"netflix_ratings.csv\")"
   ]
  },
  {
   "cell_type": "code",
   "execution_count": 7,
   "metadata": {},
   "outputs": [
    {
     "name": "stdout",
     "output_type": "stream",
     "text": [
      "Resources\\netflix_ratings.csv\n"
     ]
    }
   ],
   "source": [
    "print(inputfilepath)"
   ]
  },
  {
   "cell_type": "code",
   "execution_count": 8,
   "metadata": {},
   "outputs": [
    {
     "data": {
      "text/plain": [
       "'Resources\\\\netflix_ratings.csv'"
      ]
     },
     "execution_count": 8,
     "metadata": {},
     "output_type": "execute_result"
    }
   ],
   "source": [
    "inputfilepath"
   ]
  },
  {
   "cell_type": "code",
   "execution_count": 11,
   "metadata": {},
   "outputs": [
    {
     "name": "stdout",
     "output_type": "stream",
     "text": [
      "Enter your video Batman\n",
      "The Video Batman could not be found\n"
     ]
    }
   ],
   "source": [
    "# with open(\"Resources/netflix_ratings.csv\",newline=\"\") as csvhandler:\n",
    "with open(inputfilepath,newline=\"\") as csvhandler:\n",
    "    next(csvhandler, None)\n",
    "    inputfiledata = csv.reader(csvhandler, delimiter=\",\")\n",
    "    userchoice = input(\"Enter your video \")\n",
    "    Found = False\n",
    "    for row in inputfiledata:\n",
    "        if userchoice == row[0]:\n",
    "            Found = True\n",
    "            print(f'{row[0]} is rated {row[1]} with a rating of {row[5]}')\n",
    "            break\n",
    "    if Found == False:\n",
    "        print(f'The Video {userchoice} could not be found')"
   ]
  },
  {
   "cell_type": "code",
   "execution_count": null,
   "metadata": {},
   "outputs": [],
   "source": []
  },
  {
   "cell_type": "code",
   "execution_count": null,
   "metadata": {},
   "outputs": [],
   "source": []
  }
 ],
 "metadata": {
  "kernelspec": {
   "display_name": "Python 3",
   "language": "python",
   "name": "python3"
  },
  "language_info": {
   "codemirror_mode": {
    "name": "ipython",
    "version": 3
   },
   "file_extension": ".py",
   "mimetype": "text/x-python",
   "name": "python",
   "nbconvert_exporter": "python",
   "pygments_lexer": "ipython3",
   "version": "3.6.5"
  }
 },
 "nbformat": 4,
 "nbformat_minor": 2
}
