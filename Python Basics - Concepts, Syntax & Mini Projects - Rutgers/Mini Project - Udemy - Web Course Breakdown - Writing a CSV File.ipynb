{
 "cells": [
  {
   "cell_type": "markdown",
   "metadata": {},
   "source": [
    "# Udemy - Web Course Breakdown\n",
    "\n",
    "## Instructions\n",
    "\n",
    "* Create a Python application that reads the data on Udemy Web Development offerings. \n",
    "\n",
    "* Then store the contents of the Title, Price, Subscriber Count, Number of Reviews, and Course Length into Python Lists.\n",
    "\n",
    "* Then zip these lists together into a single tuple.\n",
    "\n",
    "* Finally, write the contents of your extracted data into a CSV. Make sure to include the titles of these columns in your csv.\n",
    "\n",
    "\n",
    "## Notes:\n",
    "\n",
    "* As, with many datasets, the file does not include the header line. Use the below as a guide on the columns: \"id,title,url,isPaid,price,numSubscribers,numReviews,numPublishedLectures,instructionalLevel,contentInfo,publishedTime\"\n",
    "\n",
    "## Bonus:\n",
    "\n",
    "* Find the percent of subscribers that have also left a review on the course. Include this in your final output.\n",
    "\n",
    "* Parse the string associated with course length, such that we store it as an integer instead of a string. (i.e. \"4 hours\" should be converted to 4)."
   ]
  },
  {
   "cell_type": "code",
   "execution_count": null,
   "metadata": {},
   "outputs": [],
   "source": [
    "# 02- Reading, Writing, and Pyrithmetic11-Stu_UdemyZip"
   ]
  },
  {
   "cell_type": "code",
   "execution_count": 2,
   "metadata": {},
   "outputs": [],
   "source": [
    "import os\n",
    "import csv"
   ]
  },
  {
   "cell_type": "code",
   "execution_count": 7,
   "metadata": {},
   "outputs": [],
   "source": [
    "udemyfilepath = os.path.join(\"..\",\"Resources\", \"web_starter.csv\")"
   ]
  },
  {
   "cell_type": "code",
   "execution_count": 37,
   "metadata": {},
   "outputs": [],
   "source": [
    "outputfilepath = os.path.join(\"Udemy.csv\")"
   ]
  },
  {
   "cell_type": "code",
   "execution_count": 92,
   "metadata": {},
   "outputs": [],
   "source": [
    "Title = [] #[1]\n",
    "Price = [] #[4] \n",
    "Subscriber_Count = []  #[5]\n",
    "Number_of_Reviews = []  #[6]\n",
    "Course_Length = [] #[9]\n",
    "Per_sub_rev = []\n",
    "\n",
    "with open(udemyfilepath, newline=\"\",encoding='utf-8') as udemyfilehandler:\n",
    "    udemyfile = csv.reader(udemyfilehandler,delimiter=\",\")\n",
    "    for record in udemyfile:\n",
    "#         print(record)\n",
    "        Title.append(record[1])\n",
    "        Price.append(record[4])\n",
    "        Subscriber_Count.append(record[5])\n",
    "        Number_of_Reviews.append(record[6])\n",
    "        Course_Length.append(float(record[9].split(' ',1)[0]))\n",
    "        Per_sub_rev.append(round((float(record[6])/float(record[5])),2))"
   ]
  },
  {
   "cell_type": "code",
   "execution_count": 96,
   "metadata": {},
   "outputs": [],
   "source": [
    "Udemyzip = zip(Title, Price, Subscriber_Count, Number_of_Reviews, Per_sub_rev, Course_Length)\n",
    "\n",
    "with open(outputfilepath,\"w\",newline=\"\") as udemyfilewritehandler:\n",
    "    udemyfileout = csv.writer(udemyfilewritehandler)\n",
    "    udemyfileout.writerow([\"Title\", \"Course Price\", \"Subscribers\", \"Reviews Left\", \"Percent of Reviews\", \"Length of Course\"])\n",
    "    udemyfileout.writerows(Udemyzip)"
   ]
  }
 ],
 "metadata": {
  "kernelspec": {
   "display_name": "Python 3",
   "language": "python",
   "name": "python3"
  },
  "language_info": {
   "codemirror_mode": {
    "name": "ipython",
    "version": 3
   },
   "file_extension": ".py",
   "mimetype": "text/x-python",
   "name": "python",
   "nbconvert_exporter": "python",
   "pygments_lexer": "ipython3",
   "version": "3.6.5"
  }
 },
 "nbformat": 4,
 "nbformat_minor": 2
}
