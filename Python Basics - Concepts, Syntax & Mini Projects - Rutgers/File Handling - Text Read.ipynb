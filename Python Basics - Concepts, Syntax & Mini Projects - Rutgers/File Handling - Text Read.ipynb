{
 "cells": [
  {
   "cell_type": "code",
   "execution_count": 1,
   "metadata": {},
   "outputs": [],
   "source": [
    "# Store the file path associated with the file (note the backslash may be OS specific)\n",
    "file = '../Resources/input.txt'"
   ]
  },
  {
   "cell_type": "code",
   "execution_count": 2,
   "metadata": {},
   "outputs": [
    {
     "name": "stdout",
     "output_type": "stream",
     "text": [
      "<_io.TextIOWrapper name='../Resources/input.txt' mode='r' encoding='cp1252'>\n",
      "This is the first line.\n",
      "This is the second line.\n",
      "This is the last line.\n",
      "\n"
     ]
    }
   ],
   "source": [
    "# Open the file in \"read\" mode ('r') and store the contents in the variable \"text\"\n",
    "with open(file, 'r') as text:\n",
    "\n",
    "    print(text)\n",
    "\n",
    "    # Store all of the text inside a variable called \"lines\"\n",
    "    lines = text.read()\n",
    "\n",
    "    # Print the contents of the text file\n",
    "    print(lines)"
   ]
  },
  {
   "cell_type": "code",
   "execution_count": null,
   "metadata": {},
   "outputs": [],
   "source": []
  }
 ],
 "metadata": {
  "kernelspec": {
   "display_name": "Python 3",
   "language": "python",
   "name": "python3"
  },
  "language_info": {
   "codemirror_mode": {
    "name": "ipython",
    "version": 3
   },
   "file_extension": ".py",
   "mimetype": "text/x-python",
   "name": "python",
   "nbconvert_exporter": "python",
   "pygments_lexer": "ipython3",
   "version": "3.6.5"
  }
 },
 "nbformat": 4,
 "nbformat_minor": 2
}
